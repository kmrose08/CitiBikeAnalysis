{
 "cells": [
  {
   "cell_type": "code",
   "execution_count": 1,
   "id": "20d87b28",
   "metadata": {},
   "outputs": [],
   "source": [
    "import pandas as pd"
   ]
  },
  {
   "cell_type": "code",
   "execution_count": 142,
   "id": "aa9f6be5",
   "metadata": {},
   "outputs": [],
   "source": [
    "# April2019 = 'April2019.csv'\n",
    "# dfApril2019 = pd.read_csv(April)\n",
    "# # dfApril.head()\n",
    "# dfApril2019.shape"
   ]
  },
  {
   "cell_type": "code",
   "execution_count": 143,
   "id": "9e44fd26",
   "metadata": {},
   "outputs": [],
   "source": [
    "# dfApril2019.drop(dfApril2019[dfApril2019['tripduration'] >= 30000].index, inplace = True)\n",
    "# dfApril2019.shape"
   ]
  },
  {
   "cell_type": "code",
   "execution_count": 144,
   "id": "96aeb58d",
   "metadata": {},
   "outputs": [],
   "source": [
    "# May2019 = 'May2019.csv'\n",
    "# dfMay2019 = pd.read_csv(May2019)\n",
    "# # dfMay2019.head()\n",
    "# dfMay2019.shape"
   ]
  },
  {
   "cell_type": "code",
   "execution_count": 145,
   "id": "d776fca2",
   "metadata": {},
   "outputs": [],
   "source": [
    "# dfMay.drop(dfMay[dfMay['tripduration'] >= 30000].index, inplace = True)\n",
    "# dfMay.shape"
   ]
  },
  {
   "cell_type": "code",
   "execution_count": 6,
   "id": "0cb262d7",
   "metadata": {},
   "outputs": [
    {
     "data": {
      "text/plain": [
       "(2125370, 16)"
      ]
     },
     "execution_count": 6,
     "metadata": {},
     "output_type": "execute_result"
    }
   ],
   "source": [
    "# June2019 = 'June2019.csv'\n",
    "# dfJune2019 = pd.read_csv(June2019)\n",
    "# # dfJune2019.head()\n",
    "# dfJune2019.shape"
   ]
  },
  {
   "cell_type": "code",
   "execution_count": 7,
   "id": "fb709742",
   "metadata": {},
   "outputs": [
    {
     "data": {
      "text/plain": [
       "(2123753, 16)"
      ]
     },
     "execution_count": 7,
     "metadata": {},
     "output_type": "execute_result"
    }
   ],
   "source": [
    "# dfJune2019.drop(dfJune2019[dfJune2019['tripduration'] >= 30000].index, inplace = True)\n",
    "# dfJune2019.shape"
   ]
  },
  {
   "cell_type": "code",
   "execution_count": 8,
   "id": "893e6e65",
   "metadata": {},
   "outputs": [
    {
     "data": {
      "text/plain": [
       "(2181064, 16)"
      ]
     },
     "execution_count": 8,
     "metadata": {},
     "output_type": "execute_result"
    }
   ],
   "source": [
    "# July2019 = 'July2019.csv'\n",
    "# dfJuly2019 = pd.read_csv(July2019)\n",
    "# # dfJuly2019.head()\n",
    "# dfJuly2019.shape"
   ]
  },
  {
   "cell_type": "code",
   "execution_count": 9,
   "id": "d6255e72",
   "metadata": {},
   "outputs": [
    {
     "data": {
      "text/plain": [
       "(2179552, 16)"
      ]
     },
     "execution_count": 9,
     "metadata": {},
     "output_type": "execute_result"
    }
   ],
   "source": [
    "# dfJuly2019.drop(dfJuly2019[dfJuly2019['tripduration'] >= 30000].index, inplace = True)\n",
    "# dfJuly2019.shape"
   ]
  },
  {
   "cell_type": "code",
   "execution_count": 10,
   "id": "85313de4",
   "metadata": {},
   "outputs": [
    {
     "data": {
      "text/plain": [
       "(2344224, 16)"
      ]
     },
     "execution_count": 10,
     "metadata": {},
     "output_type": "execute_result"
    }
   ],
   "source": [
    "# Aug2019 = 'Aug2019.csv'\n",
    "# dfAug2019 = pd.read_csv(Aug2019)\n",
    "# dfAug2019.shape"
   ]
  },
  {
   "cell_type": "code",
   "execution_count": 11,
   "id": "e24238bb",
   "metadata": {},
   "outputs": [
    {
     "data": {
      "text/plain": [
       "(2342790, 16)"
      ]
     },
     "execution_count": 11,
     "metadata": {},
     "output_type": "execute_result"
    }
   ],
   "source": [
    "dfAug2019.drop(dfAug2019[dfAug2019['tripduration'] >= 30000].index, inplace = True)\n",
    "dfAug2019.shape"
   ]
  },
  {
   "cell_type": "code",
   "execution_count": 12,
   "id": "e294aba6",
   "metadata": {},
   "outputs": [
    {
     "data": {
      "text/plain": [
       "(2444900, 16)"
      ]
     },
     "execution_count": 12,
     "metadata": {},
     "output_type": "execute_result"
    }
   ],
   "source": [
    "Sept2019 = 'Sept2019.csv'\n",
    "dfSept2019 = pd.read_csv(Sept2019)\n",
    "# dfSept2019.head()\n",
    "dfSept2019.shape"
   ]
  },
  {
   "cell_type": "code",
   "execution_count": 13,
   "id": "f9d5f094",
   "metadata": {},
   "outputs": [
    {
     "data": {
      "text/plain": [
       "(2443474, 16)"
      ]
     },
     "execution_count": 13,
     "metadata": {},
     "output_type": "execute_result"
    }
   ],
   "source": [
    "dfSept2019.drop(dfSept2019[dfSept2019['tripduration'] >= 30000].index, inplace = True)\n",
    "dfSept2019.shape"
   ]
  },
  {
   "cell_type": "code",
   "execution_count": 14,
   "id": "49b3f902",
   "metadata": {},
   "outputs": [],
   "source": [
    "April2018 = 'April2018.csv'\n",
    "dfApril2018 = pd.read_csv(April2018)\n",
    "dfApril2018.drop(dfApril2018[dfApril2018['tripduration'] >= 30000].index, inplace = True)"
   ]
  },
  {
   "cell_type": "code",
   "execution_count": 15,
   "id": "de1518bc",
   "metadata": {},
   "outputs": [],
   "source": [
    "May2018 = 'May2018.csv'\n",
    "dfMay2018 = pd.read_csv(May2018)\n",
    "dfMay2018.drop(dfMay2018[dfMay2018['tripduration'] >= 30000].index, inplace = True)"
   ]
  },
  {
   "cell_type": "code",
   "execution_count": 16,
   "id": "82227fa9",
   "metadata": {},
   "outputs": [],
   "source": [
    "June2018 = 'June2018.csv'\n",
    "dfJune2018 = pd.read_csv(June2018)\n",
    "dfJune2018.drop(dfJune2018[dfJune2018['tripduration'] >= 30000].index, inplace = True)"
   ]
  },
  {
   "cell_type": "code",
   "execution_count": 17,
   "id": "74230b78",
   "metadata": {},
   "outputs": [],
   "source": [
    "July2018 = 'July2018.csv'\n",
    "dfJuly2018 = pd.read_csv(July2018)\n",
    "dfJuly2018.drop(dfJuly2018[dfJuly2018['tripduration'] >= 30000].index, inplace = True)"
   ]
  },
  {
   "cell_type": "code",
   "execution_count": null,
   "id": "543d89a1",
   "metadata": {},
   "outputs": [],
   "source": [
    "April2018Clean = 'April2018Clean.csv'\n",
    "dfApril2018Clean = pd.read_csv(April2018Clean)\n",
    "list(dfApril2018Clean.columns)"
   ]
  },
  {
   "cell_type": "code",
   "execution_count": 18,
   "id": "de31fb35",
   "metadata": {},
   "outputs": [],
   "source": [
    "Aug2018 = 'Aug2018.csv'\n",
    "dfAug2018 = pd.read_csv(Aug2018)\n",
    "dfAug2018.drop(dfAug2018[dfAug2018['tripduration'] >= 30000].index, inplace = True)"
   ]
  },
  {
   "cell_type": "code",
   "execution_count": 20,
   "id": "7ac6a2f5",
   "metadata": {},
   "outputs": [],
   "source": [
    "Sept2018 = 'Sept2018.csv'\n",
    "dfSept2018 = pd.read_csv(Sept2018)\n",
    "dfSept2018.drop(dfSept2018[dfSept2018['tripduration'] >= 30000].index, inplace = True)"
   ]
  },
  {
   "cell_type": "markdown",
   "id": "7ae0f3b1",
   "metadata": {},
   "source": [
    "April 2018"
   ]
  },
  {
   "cell_type": "code",
   "execution_count": 34,
   "id": "a9b563cb",
   "metadata": {},
   "outputs": [],
   "source": [
    "dfApril2018 = pd.read_csv(r'April2018.csv').assign(Month='April')\n",
    "dfApril2018.to_csv('April2018Clean.csv', index=False)"
   ]
  },
  {
   "cell_type": "code",
   "execution_count": 35,
   "id": "bc13ffb0",
   "metadata": {},
   "outputs": [
    {
     "data": {
      "text/plain": [
       "['tripduration',\n",
       " 'starttime',\n",
       " 'stoptime',\n",
       " 'start station id',\n",
       " 'start station name',\n",
       " 'start station latitude',\n",
       " 'start station longitude',\n",
       " 'end station id',\n",
       " 'end station name',\n",
       " 'end station latitude',\n",
       " 'end station longitude',\n",
       " 'bikeid',\n",
       " 'usertype',\n",
       " 'birth year',\n",
       " 'gender',\n",
       " 'Month']"
      ]
     },
     "execution_count": 35,
     "metadata": {},
     "output_type": "execute_result"
    }
   ],
   "source": [
    "April2018Clean = 'April2018Clean.csv'\n",
    "dfApril2018Clean = pd.read_csv(April2018Clean)\n",
    "# list(dfApril2018Clean.columns)"
   ]
  },
  {
   "cell_type": "code",
   "execution_count": 99,
   "id": "51676b7b",
   "metadata": {},
   "outputs": [
    {
     "data": {
      "text/html": [
       "<div>\n",
       "<style scoped>\n",
       "    .dataframe tbody tr th:only-of-type {\n",
       "        vertical-align: middle;\n",
       "    }\n",
       "\n",
       "    .dataframe tbody tr th {\n",
       "        vertical-align: top;\n",
       "    }\n",
       "\n",
       "    .dataframe thead th {\n",
       "        text-align: right;\n",
       "    }\n",
       "</style>\n",
       "<table border=\"1\" class=\"dataframe\">\n",
       "  <thead>\n",
       "    <tr style=\"text-align: right;\">\n",
       "      <th></th>\n",
       "      <th>tripduration</th>\n",
       "      <th>starttime</th>\n",
       "      <th>stoptime</th>\n",
       "      <th>start station id</th>\n",
       "      <th>start station name</th>\n",
       "      <th>start station latitude</th>\n",
       "      <th>start station longitude</th>\n",
       "      <th>end station id</th>\n",
       "      <th>end station name</th>\n",
       "      <th>end station latitude</th>\n",
       "      <th>end station longitude</th>\n",
       "      <th>bikeid</th>\n",
       "      <th>usertype</th>\n",
       "      <th>birth year</th>\n",
       "      <th>gender</th>\n",
       "      <th>Month</th>\n",
       "    </tr>\n",
       "  </thead>\n",
       "  <tbody>\n",
       "    <tr>\n",
       "      <th>0</th>\n",
       "      <td>88</td>\n",
       "      <td>2019-04-01 00:00:14.7410</td>\n",
       "      <td>2019-04-01 00:01:42.8900</td>\n",
       "      <td>2006</td>\n",
       "      <td>Central Park S &amp; 6 Ave</td>\n",
       "      <td>40.765909</td>\n",
       "      <td>-73.976342</td>\n",
       "      <td>2006</td>\n",
       "      <td>Central Park S &amp; 6 Ave</td>\n",
       "      <td>40.765909</td>\n",
       "      <td>-73.976342</td>\n",
       "      <td>36515</td>\n",
       "      <td>Subscriber</td>\n",
       "      <td>1982</td>\n",
       "      <td>1</td>\n",
       "      <td>April</td>\n",
       "    </tr>\n",
       "    <tr>\n",
       "      <th>1</th>\n",
       "      <td>443</td>\n",
       "      <td>2019-04-01 00:00:20.8270</td>\n",
       "      <td>2019-04-01 00:07:44.2920</td>\n",
       "      <td>254</td>\n",
       "      <td>W 11 St &amp; 6 Ave</td>\n",
       "      <td>40.735324</td>\n",
       "      <td>-73.998004</td>\n",
       "      <td>540</td>\n",
       "      <td>Lexington Ave &amp; E 29 St</td>\n",
       "      <td>40.743116</td>\n",
       "      <td>-73.982154</td>\n",
       "      <td>17406</td>\n",
       "      <td>Subscriber</td>\n",
       "      <td>1983</td>\n",
       "      <td>1</td>\n",
       "      <td>April</td>\n",
       "    </tr>\n",
       "    <tr>\n",
       "      <th>2</th>\n",
       "      <td>662</td>\n",
       "      <td>2019-04-01 00:00:30.9960</td>\n",
       "      <td>2019-04-01 00:11:33.2610</td>\n",
       "      <td>3244</td>\n",
       "      <td>University Pl &amp; E 8 St</td>\n",
       "      <td>40.731437</td>\n",
       "      <td>-73.994903</td>\n",
       "      <td>3244</td>\n",
       "      <td>University Pl &amp; E 8 St</td>\n",
       "      <td>40.731437</td>\n",
       "      <td>-73.994903</td>\n",
       "      <td>20775</td>\n",
       "      <td>Subscriber</td>\n",
       "      <td>1988</td>\n",
       "      <td>1</td>\n",
       "      <td>April</td>\n",
       "    </tr>\n",
       "    <tr>\n",
       "      <th>3</th>\n",
       "      <td>86</td>\n",
       "      <td>2019-04-01 00:00:30.9110</td>\n",
       "      <td>2019-04-01 00:01:56.9600</td>\n",
       "      <td>526</td>\n",
       "      <td>E 33 St &amp; 5 Ave</td>\n",
       "      <td>40.747659</td>\n",
       "      <td>-73.984907</td>\n",
       "      <td>474</td>\n",
       "      <td>5 Ave &amp; E 29 St</td>\n",
       "      <td>40.745168</td>\n",
       "      <td>-73.986831</td>\n",
       "      <td>36270</td>\n",
       "      <td>Subscriber</td>\n",
       "      <td>1982</td>\n",
       "      <td>1</td>\n",
       "      <td>April</td>\n",
       "    </tr>\n",
       "    <tr>\n",
       "      <th>4</th>\n",
       "      <td>136</td>\n",
       "      <td>2019-04-01 00:00:32.5930</td>\n",
       "      <td>2019-04-01 00:02:49.3910</td>\n",
       "      <td>461</td>\n",
       "      <td>E 20 St &amp; 2 Ave</td>\n",
       "      <td>40.735877</td>\n",
       "      <td>-73.982050</td>\n",
       "      <td>504</td>\n",
       "      <td>1 Ave &amp; E 16 St</td>\n",
       "      <td>40.732219</td>\n",
       "      <td>-73.981656</td>\n",
       "      <td>36051</td>\n",
       "      <td>Subscriber</td>\n",
       "      <td>1986</td>\n",
       "      <td>1</td>\n",
       "      <td>April</td>\n",
       "    </tr>\n",
       "  </tbody>\n",
       "</table>\n",
       "</div>"
      ],
      "text/plain": [
       "   tripduration                 starttime                  stoptime  \\\n",
       "0            88  2019-04-01 00:00:14.7410  2019-04-01 00:01:42.8900   \n",
       "1           443  2019-04-01 00:00:20.8270  2019-04-01 00:07:44.2920   \n",
       "2           662  2019-04-01 00:00:30.9960  2019-04-01 00:11:33.2610   \n",
       "3            86  2019-04-01 00:00:30.9110  2019-04-01 00:01:56.9600   \n",
       "4           136  2019-04-01 00:00:32.5930  2019-04-01 00:02:49.3910   \n",
       "\n",
       "   start station id      start station name  start station latitude  \\\n",
       "0              2006  Central Park S & 6 Ave               40.765909   \n",
       "1               254         W 11 St & 6 Ave               40.735324   \n",
       "2              3244  University Pl & E 8 St               40.731437   \n",
       "3               526         E 33 St & 5 Ave               40.747659   \n",
       "4               461         E 20 St & 2 Ave               40.735877   \n",
       "\n",
       "   start station longitude  end station id         end station name  \\\n",
       "0               -73.976342            2006   Central Park S & 6 Ave   \n",
       "1               -73.998004             540  Lexington Ave & E 29 St   \n",
       "2               -73.994903            3244   University Pl & E 8 St   \n",
       "3               -73.984907             474          5 Ave & E 29 St   \n",
       "4               -73.982050             504          1 Ave & E 16 St   \n",
       "\n",
       "   end station latitude  end station longitude  bikeid    usertype  \\\n",
       "0             40.765909             -73.976342   36515  Subscriber   \n",
       "1             40.743116             -73.982154   17406  Subscriber   \n",
       "2             40.731437             -73.994903   20775  Subscriber   \n",
       "3             40.745168             -73.986831   36270  Subscriber   \n",
       "4             40.732219             -73.981656   36051  Subscriber   \n",
       "\n",
       "   birth year  gender  Month  \n",
       "0        1982       1  April  \n",
       "1        1983       1  April  \n",
       "2        1988       1  April  \n",
       "3        1982       1  April  \n",
       "4        1986       1  April  "
      ]
     },
     "execution_count": 99,
     "metadata": {},
     "output_type": "execute_result"
    }
   ],
   "source": [
    "dfApril2018Clean.head()"
   ]
  },
  {
   "cell_type": "code",
   "execution_count": 97,
   "id": "e4449c59",
   "metadata": {},
   "outputs": [
    {
     "data": {
      "text/plain": [
       "['tripduration',\n",
       " 'starttime',\n",
       " 'stoptime',\n",
       " 'start station id',\n",
       " 'start station name',\n",
       " 'start station latitude',\n",
       " 'start station longitude',\n",
       " 'end station id',\n",
       " 'end station name',\n",
       " 'end station latitude',\n",
       " 'end station longitude',\n",
       " 'bikeid',\n",
       " 'usertype',\n",
       " 'birth year',\n",
       " 'gender',\n",
       " 'Month']"
      ]
     },
     "execution_count": 97,
     "metadata": {},
     "output_type": "execute_result"
    }
   ],
   "source": [
    "# list(dfApril2018.columns)"
   ]
  },
  {
   "cell_type": "markdown",
   "id": "b0e7602c",
   "metadata": {},
   "source": [
    "May 2018"
   ]
  },
  {
   "cell_type": "code",
   "execution_count": 40,
   "id": "d94e23c6",
   "metadata": {},
   "outputs": [],
   "source": [
    "dfMay2018 = pd.read_csv(r'May2018.csv').assign(Month='May')\n",
    "dfMay2018.to_csv('May2018Clean.csv', index=False)"
   ]
  },
  {
   "cell_type": "code",
   "execution_count": 48,
   "id": "d238482f",
   "metadata": {},
   "outputs": [],
   "source": [
    "# list(dfMay2018Clean.columns)"
   ]
  },
  {
   "cell_type": "code",
   "execution_count": 42,
   "id": "ec0c9759",
   "metadata": {},
   "outputs": [],
   "source": [
    "May2018Clean = 'May2018Clean.csv'\n",
    "dfMay2018Clean = pd.read_csv(May2018Clean)"
   ]
  },
  {
   "cell_type": "code",
   "execution_count": 98,
   "id": "4a0ee6d8",
   "metadata": {},
   "outputs": [
    {
     "data": {
      "text/html": [
       "<div>\n",
       "<style scoped>\n",
       "    .dataframe tbody tr th:only-of-type {\n",
       "        vertical-align: middle;\n",
       "    }\n",
       "\n",
       "    .dataframe tbody tr th {\n",
       "        vertical-align: top;\n",
       "    }\n",
       "\n",
       "    .dataframe thead th {\n",
       "        text-align: right;\n",
       "    }\n",
       "</style>\n",
       "<table border=\"1\" class=\"dataframe\">\n",
       "  <thead>\n",
       "    <tr style=\"text-align: right;\">\n",
       "      <th></th>\n",
       "      <th>tripduration</th>\n",
       "      <th>starttime</th>\n",
       "      <th>stoptime</th>\n",
       "      <th>start station id</th>\n",
       "      <th>start station name</th>\n",
       "      <th>start station latitude</th>\n",
       "      <th>start station longitude</th>\n",
       "      <th>end station id</th>\n",
       "      <th>end station name</th>\n",
       "      <th>end station latitude</th>\n",
       "      <th>end station longitude</th>\n",
       "      <th>bikeid</th>\n",
       "      <th>usertype</th>\n",
       "      <th>birth year</th>\n",
       "      <th>gender</th>\n",
       "      <th>Month</th>\n",
       "    </tr>\n",
       "  </thead>\n",
       "  <tbody>\n",
       "    <tr>\n",
       "      <th>0</th>\n",
       "      <td>367</td>\n",
       "      <td>2018-05-01 05:06:16.5840</td>\n",
       "      <td>2018-05-01 05:12:23.9650</td>\n",
       "      <td>72</td>\n",
       "      <td>W 52 St &amp; 11 Ave</td>\n",
       "      <td>40.767272</td>\n",
       "      <td>-73.993929</td>\n",
       "      <td>514</td>\n",
       "      <td>12 Ave &amp; W 40 St</td>\n",
       "      <td>40.760875</td>\n",
       "      <td>-74.002777</td>\n",
       "      <td>30567</td>\n",
       "      <td>Subscriber</td>\n",
       "      <td>1965</td>\n",
       "      <td>1</td>\n",
       "      <td>May</td>\n",
       "    </tr>\n",
       "    <tr>\n",
       "      <th>1</th>\n",
       "      <td>1313</td>\n",
       "      <td>2018-05-01 06:25:49.4250</td>\n",
       "      <td>2018-05-01 06:47:42.7120</td>\n",
       "      <td>72</td>\n",
       "      <td>W 52 St &amp; 11 Ave</td>\n",
       "      <td>40.767272</td>\n",
       "      <td>-73.993929</td>\n",
       "      <td>426</td>\n",
       "      <td>West St &amp; Chambers St</td>\n",
       "      <td>40.717548</td>\n",
       "      <td>-74.013221</td>\n",
       "      <td>18965</td>\n",
       "      <td>Subscriber</td>\n",
       "      <td>1956</td>\n",
       "      <td>1</td>\n",
       "      <td>May</td>\n",
       "    </tr>\n",
       "    <tr>\n",
       "      <th>2</th>\n",
       "      <td>1798</td>\n",
       "      <td>2018-05-01 06:40:26.4450</td>\n",
       "      <td>2018-05-01 07:10:25.1790</td>\n",
       "      <td>72</td>\n",
       "      <td>W 52 St &amp; 11 Ave</td>\n",
       "      <td>40.767272</td>\n",
       "      <td>-73.993929</td>\n",
       "      <td>3435</td>\n",
       "      <td>Grand St &amp; Elizabeth St</td>\n",
       "      <td>40.718822</td>\n",
       "      <td>-73.995960</td>\n",
       "      <td>30241</td>\n",
       "      <td>Subscriber</td>\n",
       "      <td>1959</td>\n",
       "      <td>2</td>\n",
       "      <td>May</td>\n",
       "    </tr>\n",
       "    <tr>\n",
       "      <th>3</th>\n",
       "      <td>518</td>\n",
       "      <td>2018-05-01 07:06:02.9730</td>\n",
       "      <td>2018-05-01 07:14:41.0040</td>\n",
       "      <td>72</td>\n",
       "      <td>W 52 St &amp; 11 Ave</td>\n",
       "      <td>40.767272</td>\n",
       "      <td>-73.993929</td>\n",
       "      <td>477</td>\n",
       "      <td>W 41 St &amp; 8 Ave</td>\n",
       "      <td>40.756405</td>\n",
       "      <td>-73.990026</td>\n",
       "      <td>28985</td>\n",
       "      <td>Subscriber</td>\n",
       "      <td>1986</td>\n",
       "      <td>1</td>\n",
       "      <td>May</td>\n",
       "    </tr>\n",
       "    <tr>\n",
       "      <th>4</th>\n",
       "      <td>109</td>\n",
       "      <td>2018-05-01 07:26:32.3450</td>\n",
       "      <td>2018-05-01 07:28:21.5420</td>\n",
       "      <td>72</td>\n",
       "      <td>W 52 St &amp; 11 Ave</td>\n",
       "      <td>40.767272</td>\n",
       "      <td>-73.993929</td>\n",
       "      <td>530</td>\n",
       "      <td>11 Ave &amp; W 59 St</td>\n",
       "      <td>40.771522</td>\n",
       "      <td>-73.990541</td>\n",
       "      <td>14556</td>\n",
       "      <td>Subscriber</td>\n",
       "      <td>1991</td>\n",
       "      <td>1</td>\n",
       "      <td>May</td>\n",
       "    </tr>\n",
       "  </tbody>\n",
       "</table>\n",
       "</div>"
      ],
      "text/plain": [
       "   tripduration                 starttime                  stoptime  \\\n",
       "0           367  2018-05-01 05:06:16.5840  2018-05-01 05:12:23.9650   \n",
       "1          1313  2018-05-01 06:25:49.4250  2018-05-01 06:47:42.7120   \n",
       "2          1798  2018-05-01 06:40:26.4450  2018-05-01 07:10:25.1790   \n",
       "3           518  2018-05-01 07:06:02.9730  2018-05-01 07:14:41.0040   \n",
       "4           109  2018-05-01 07:26:32.3450  2018-05-01 07:28:21.5420   \n",
       "\n",
       "   start station id start station name  start station latitude  \\\n",
       "0                72   W 52 St & 11 Ave               40.767272   \n",
       "1                72   W 52 St & 11 Ave               40.767272   \n",
       "2                72   W 52 St & 11 Ave               40.767272   \n",
       "3                72   W 52 St & 11 Ave               40.767272   \n",
       "4                72   W 52 St & 11 Ave               40.767272   \n",
       "\n",
       "   start station longitude  end station id         end station name  \\\n",
       "0               -73.993929             514         12 Ave & W 40 St   \n",
       "1               -73.993929             426    West St & Chambers St   \n",
       "2               -73.993929            3435  Grand St & Elizabeth St   \n",
       "3               -73.993929             477          W 41 St & 8 Ave   \n",
       "4               -73.993929             530         11 Ave & W 59 St   \n",
       "\n",
       "   end station latitude  end station longitude  bikeid    usertype  \\\n",
       "0             40.760875             -74.002777   30567  Subscriber   \n",
       "1             40.717548             -74.013221   18965  Subscriber   \n",
       "2             40.718822             -73.995960   30241  Subscriber   \n",
       "3             40.756405             -73.990026   28985  Subscriber   \n",
       "4             40.771522             -73.990541   14556  Subscriber   \n",
       "\n",
       "   birth year  gender Month  \n",
       "0        1965       1   May  \n",
       "1        1956       1   May  \n",
       "2        1959       2   May  \n",
       "3        1986       1   May  \n",
       "4        1991       1   May  "
      ]
     },
     "execution_count": 98,
     "metadata": {},
     "output_type": "execute_result"
    }
   ],
   "source": [
    "dfMay2018Clean.head()"
   ]
  },
  {
   "cell_type": "markdown",
   "id": "e86720bd",
   "metadata": {},
   "source": [
    "June 2018"
   ]
  },
  {
   "cell_type": "code",
   "execution_count": 49,
   "id": "a70724a0",
   "metadata": {},
   "outputs": [],
   "source": [
    "dfJune2018 = pd.read_csv(r'June2018.csv').assign(Month='June')\n",
    "dfJune2018.to_csv('June2018Clean.csv', index=False)"
   ]
  },
  {
   "cell_type": "code",
   "execution_count": 52,
   "id": "e67a544c",
   "metadata": {},
   "outputs": [],
   "source": [
    "# list(dfJune2018.columns)"
   ]
  },
  {
   "cell_type": "code",
   "execution_count": 53,
   "id": "5586ab27",
   "metadata": {},
   "outputs": [],
   "source": [
    "June2018Clean = 'June2018Clean.csv'\n",
    "dfJune2018Clean = pd.read_csv(June2018Clean)"
   ]
  },
  {
   "cell_type": "code",
   "execution_count": 100,
   "id": "710c627b",
   "metadata": {},
   "outputs": [
    {
     "data": {
      "text/html": [
       "<div>\n",
       "<style scoped>\n",
       "    .dataframe tbody tr th:only-of-type {\n",
       "        vertical-align: middle;\n",
       "    }\n",
       "\n",
       "    .dataframe tbody tr th {\n",
       "        vertical-align: top;\n",
       "    }\n",
       "\n",
       "    .dataframe thead th {\n",
       "        text-align: right;\n",
       "    }\n",
       "</style>\n",
       "<table border=\"1\" class=\"dataframe\">\n",
       "  <thead>\n",
       "    <tr style=\"text-align: right;\">\n",
       "      <th></th>\n",
       "      <th>tripduration</th>\n",
       "      <th>starttime</th>\n",
       "      <th>stoptime</th>\n",
       "      <th>start station id</th>\n",
       "      <th>start station name</th>\n",
       "      <th>start station latitude</th>\n",
       "      <th>start station longitude</th>\n",
       "      <th>end station id</th>\n",
       "      <th>end station name</th>\n",
       "      <th>end station latitude</th>\n",
       "      <th>end station longitude</th>\n",
       "      <th>bikeid</th>\n",
       "      <th>usertype</th>\n",
       "      <th>birth year</th>\n",
       "      <th>gender</th>\n",
       "      <th>Month</th>\n",
       "    </tr>\n",
       "  </thead>\n",
       "  <tbody>\n",
       "    <tr>\n",
       "      <th>0</th>\n",
       "      <td>569</td>\n",
       "      <td>2018-06-01 01:57:20.5140</td>\n",
       "      <td>2018-06-01 02:06:50.0880</td>\n",
       "      <td>72</td>\n",
       "      <td>W 52 St &amp; 11 Ave</td>\n",
       "      <td>40.767272</td>\n",
       "      <td>-73.993929</td>\n",
       "      <td>173</td>\n",
       "      <td>Broadway &amp; W 49 St</td>\n",
       "      <td>40.760683</td>\n",
       "      <td>-73.984527</td>\n",
       "      <td>21481</td>\n",
       "      <td>Subscriber</td>\n",
       "      <td>1999</td>\n",
       "      <td>1</td>\n",
       "      <td>June</td>\n",
       "    </tr>\n",
       "    <tr>\n",
       "      <th>1</th>\n",
       "      <td>480</td>\n",
       "      <td>2018-06-01 02:02:42.3980</td>\n",
       "      <td>2018-06-01 02:10:43.3540</td>\n",
       "      <td>72</td>\n",
       "      <td>W 52 St &amp; 11 Ave</td>\n",
       "      <td>40.767272</td>\n",
       "      <td>-73.993929</td>\n",
       "      <td>477</td>\n",
       "      <td>W 41 St &amp; 8 Ave</td>\n",
       "      <td>40.756405</td>\n",
       "      <td>-73.990026</td>\n",
       "      <td>19123</td>\n",
       "      <td>Subscriber</td>\n",
       "      <td>1988</td>\n",
       "      <td>1</td>\n",
       "      <td>June</td>\n",
       "    </tr>\n",
       "    <tr>\n",
       "      <th>2</th>\n",
       "      <td>692</td>\n",
       "      <td>2018-06-01 02:04:23.6240</td>\n",
       "      <td>2018-06-01 02:15:55.7470</td>\n",
       "      <td>72</td>\n",
       "      <td>W 52 St &amp; 11 Ave</td>\n",
       "      <td>40.767272</td>\n",
       "      <td>-73.993929</td>\n",
       "      <td>457</td>\n",
       "      <td>Broadway &amp; W 58 St</td>\n",
       "      <td>40.766953</td>\n",
       "      <td>-73.981693</td>\n",
       "      <td>26983</td>\n",
       "      <td>Subscriber</td>\n",
       "      <td>1986</td>\n",
       "      <td>1</td>\n",
       "      <td>June</td>\n",
       "    </tr>\n",
       "    <tr>\n",
       "      <th>3</th>\n",
       "      <td>664</td>\n",
       "      <td>2018-06-01 03:00:55.4610</td>\n",
       "      <td>2018-06-01 03:11:59.9060</td>\n",
       "      <td>72</td>\n",
       "      <td>W 52 St &amp; 11 Ave</td>\n",
       "      <td>40.767272</td>\n",
       "      <td>-73.993929</td>\n",
       "      <td>379</td>\n",
       "      <td>W 31 St &amp; 7 Ave</td>\n",
       "      <td>40.749156</td>\n",
       "      <td>-73.991600</td>\n",
       "      <td>26742</td>\n",
       "      <td>Subscriber</td>\n",
       "      <td>1973</td>\n",
       "      <td>1</td>\n",
       "      <td>June</td>\n",
       "    </tr>\n",
       "    <tr>\n",
       "      <th>4</th>\n",
       "      <td>818</td>\n",
       "      <td>2018-06-01 06:04:54.4270</td>\n",
       "      <td>2018-06-01 06:18:32.6170</td>\n",
       "      <td>72</td>\n",
       "      <td>W 52 St &amp; 11 Ave</td>\n",
       "      <td>40.767272</td>\n",
       "      <td>-73.993929</td>\n",
       "      <td>459</td>\n",
       "      <td>W 20 St &amp; 11 Ave</td>\n",
       "      <td>40.746745</td>\n",
       "      <td>-74.007756</td>\n",
       "      <td>26386</td>\n",
       "      <td>Subscriber</td>\n",
       "      <td>1984</td>\n",
       "      <td>1</td>\n",
       "      <td>June</td>\n",
       "    </tr>\n",
       "  </tbody>\n",
       "</table>\n",
       "</div>"
      ],
      "text/plain": [
       "   tripduration                 starttime                  stoptime  \\\n",
       "0           569  2018-06-01 01:57:20.5140  2018-06-01 02:06:50.0880   \n",
       "1           480  2018-06-01 02:02:42.3980  2018-06-01 02:10:43.3540   \n",
       "2           692  2018-06-01 02:04:23.6240  2018-06-01 02:15:55.7470   \n",
       "3           664  2018-06-01 03:00:55.4610  2018-06-01 03:11:59.9060   \n",
       "4           818  2018-06-01 06:04:54.4270  2018-06-01 06:18:32.6170   \n",
       "\n",
       "   start station id start station name  start station latitude  \\\n",
       "0                72   W 52 St & 11 Ave               40.767272   \n",
       "1                72   W 52 St & 11 Ave               40.767272   \n",
       "2                72   W 52 St & 11 Ave               40.767272   \n",
       "3                72   W 52 St & 11 Ave               40.767272   \n",
       "4                72   W 52 St & 11 Ave               40.767272   \n",
       "\n",
       "   start station longitude  end station id    end station name  \\\n",
       "0               -73.993929             173  Broadway & W 49 St   \n",
       "1               -73.993929             477     W 41 St & 8 Ave   \n",
       "2               -73.993929             457  Broadway & W 58 St   \n",
       "3               -73.993929             379     W 31 St & 7 Ave   \n",
       "4               -73.993929             459    W 20 St & 11 Ave   \n",
       "\n",
       "   end station latitude  end station longitude  bikeid    usertype  \\\n",
       "0             40.760683             -73.984527   21481  Subscriber   \n",
       "1             40.756405             -73.990026   19123  Subscriber   \n",
       "2             40.766953             -73.981693   26983  Subscriber   \n",
       "3             40.749156             -73.991600   26742  Subscriber   \n",
       "4             40.746745             -74.007756   26386  Subscriber   \n",
       "\n",
       "   birth year  gender Month  \n",
       "0        1999       1  June  \n",
       "1        1988       1  June  \n",
       "2        1986       1  June  \n",
       "3        1973       1  June  \n",
       "4        1984       1  June  "
      ]
     },
     "execution_count": 100,
     "metadata": {},
     "output_type": "execute_result"
    }
   ],
   "source": [
    "dfJune2018Clean.head()"
   ]
  },
  {
   "cell_type": "markdown",
   "id": "ec5448b0",
   "metadata": {},
   "source": [
    "July 2018"
   ]
  },
  {
   "cell_type": "code",
   "execution_count": 56,
   "id": "be071156",
   "metadata": {},
   "outputs": [],
   "source": [
    "dfJuly2018 = pd.read_csv(r'July2018.csv').assign(Month='July')\n",
    "dfJuly2018.to_csv('July2018Clean.csv', index=False)"
   ]
  },
  {
   "cell_type": "code",
   "execution_count": 59,
   "id": "d591bb77",
   "metadata": {},
   "outputs": [],
   "source": [
    "# list(dfJuly2018.columns)"
   ]
  },
  {
   "cell_type": "code",
   "execution_count": 60,
   "id": "b5dc97e7",
   "metadata": {},
   "outputs": [],
   "source": [
    "July2018Clean = 'July2018Clean.csv'\n",
    "dfJuly2018Clean = pd.read_csv(July2018Clean)"
   ]
  },
  {
   "cell_type": "code",
   "execution_count": 101,
   "id": "3ea1e9a9",
   "metadata": {},
   "outputs": [
    {
     "data": {
      "text/html": [
       "<div>\n",
       "<style scoped>\n",
       "    .dataframe tbody tr th:only-of-type {\n",
       "        vertical-align: middle;\n",
       "    }\n",
       "\n",
       "    .dataframe tbody tr th {\n",
       "        vertical-align: top;\n",
       "    }\n",
       "\n",
       "    .dataframe thead th {\n",
       "        text-align: right;\n",
       "    }\n",
       "</style>\n",
       "<table border=\"1\" class=\"dataframe\">\n",
       "  <thead>\n",
       "    <tr style=\"text-align: right;\">\n",
       "      <th></th>\n",
       "      <th>tripduration</th>\n",
       "      <th>starttime</th>\n",
       "      <th>stoptime</th>\n",
       "      <th>start station id</th>\n",
       "      <th>start station name</th>\n",
       "      <th>start station latitude</th>\n",
       "      <th>start station longitude</th>\n",
       "      <th>end station id</th>\n",
       "      <th>end station name</th>\n",
       "      <th>end station latitude</th>\n",
       "      <th>end station longitude</th>\n",
       "      <th>bikeid</th>\n",
       "      <th>usertype</th>\n",
       "      <th>birth year</th>\n",
       "      <th>gender</th>\n",
       "      <th>Month</th>\n",
       "    </tr>\n",
       "  </thead>\n",
       "  <tbody>\n",
       "    <tr>\n",
       "      <th>0</th>\n",
       "      <td>500</td>\n",
       "      <td>2018-07-01 00:33:51.2640</td>\n",
       "      <td>2018-07-01 00:42:12.0280</td>\n",
       "      <td>72</td>\n",
       "      <td>W 52 St &amp; 11 Ave</td>\n",
       "      <td>40.767272</td>\n",
       "      <td>-73.993929</td>\n",
       "      <td>3236</td>\n",
       "      <td>W 42 St &amp; Dyer Ave</td>\n",
       "      <td>40.758985</td>\n",
       "      <td>-73.993800</td>\n",
       "      <td>16583</td>\n",
       "      <td>Subscriber</td>\n",
       "      <td>1981</td>\n",
       "      <td>1</td>\n",
       "      <td>July</td>\n",
       "    </tr>\n",
       "    <tr>\n",
       "      <th>1</th>\n",
       "      <td>455</td>\n",
       "      <td>2018-07-01 02:06:54.0270</td>\n",
       "      <td>2018-07-01 02:14:29.0900</td>\n",
       "      <td>72</td>\n",
       "      <td>W 52 St &amp; 11 Ave</td>\n",
       "      <td>40.767272</td>\n",
       "      <td>-73.993929</td>\n",
       "      <td>529</td>\n",
       "      <td>W 42 St &amp; 8 Ave</td>\n",
       "      <td>40.757570</td>\n",
       "      <td>-73.990985</td>\n",
       "      <td>31481</td>\n",
       "      <td>Subscriber</td>\n",
       "      <td>1988</td>\n",
       "      <td>1</td>\n",
       "      <td>July</td>\n",
       "    </tr>\n",
       "    <tr>\n",
       "      <th>2</th>\n",
       "      <td>1080</td>\n",
       "      <td>2018-07-01 02:09:16.4640</td>\n",
       "      <td>2018-07-01 02:27:17.0290</td>\n",
       "      <td>72</td>\n",
       "      <td>W 52 St &amp; 11 Ave</td>\n",
       "      <td>40.767272</td>\n",
       "      <td>-73.993929</td>\n",
       "      <td>453</td>\n",
       "      <td>W 22 St &amp; 8 Ave</td>\n",
       "      <td>40.744751</td>\n",
       "      <td>-73.999154</td>\n",
       "      <td>25004</td>\n",
       "      <td>Subscriber</td>\n",
       "      <td>1982</td>\n",
       "      <td>2</td>\n",
       "      <td>July</td>\n",
       "    </tr>\n",
       "    <tr>\n",
       "      <th>3</th>\n",
       "      <td>632</td>\n",
       "      <td>2018-07-01 02:55:04.5870</td>\n",
       "      <td>2018-07-01 03:05:36.7910</td>\n",
       "      <td>72</td>\n",
       "      <td>W 52 St &amp; 11 Ave</td>\n",
       "      <td>40.767272</td>\n",
       "      <td>-73.993929</td>\n",
       "      <td>465</td>\n",
       "      <td>Broadway &amp; W 41 St</td>\n",
       "      <td>40.755136</td>\n",
       "      <td>-73.986580</td>\n",
       "      <td>25867</td>\n",
       "      <td>Subscriber</td>\n",
       "      <td>1986</td>\n",
       "      <td>1</td>\n",
       "      <td>July</td>\n",
       "    </tr>\n",
       "    <tr>\n",
       "      <th>4</th>\n",
       "      <td>1676</td>\n",
       "      <td>2018-07-01 03:24:27.4350</td>\n",
       "      <td>2018-07-01 03:52:23.7760</td>\n",
       "      <td>72</td>\n",
       "      <td>W 52 St &amp; 11 Ave</td>\n",
       "      <td>40.767272</td>\n",
       "      <td>-73.993929</td>\n",
       "      <td>3425</td>\n",
       "      <td>2 Ave &amp; E 104 St</td>\n",
       "      <td>40.789211</td>\n",
       "      <td>-73.943708</td>\n",
       "      <td>31351</td>\n",
       "      <td>Subscriber</td>\n",
       "      <td>1992</td>\n",
       "      <td>1</td>\n",
       "      <td>July</td>\n",
       "    </tr>\n",
       "  </tbody>\n",
       "</table>\n",
       "</div>"
      ],
      "text/plain": [
       "   tripduration                 starttime                  stoptime  \\\n",
       "0           500  2018-07-01 00:33:51.2640  2018-07-01 00:42:12.0280   \n",
       "1           455  2018-07-01 02:06:54.0270  2018-07-01 02:14:29.0900   \n",
       "2          1080  2018-07-01 02:09:16.4640  2018-07-01 02:27:17.0290   \n",
       "3           632  2018-07-01 02:55:04.5870  2018-07-01 03:05:36.7910   \n",
       "4          1676  2018-07-01 03:24:27.4350  2018-07-01 03:52:23.7760   \n",
       "\n",
       "   start station id start station name  start station latitude  \\\n",
       "0                72   W 52 St & 11 Ave               40.767272   \n",
       "1                72   W 52 St & 11 Ave               40.767272   \n",
       "2                72   W 52 St & 11 Ave               40.767272   \n",
       "3                72   W 52 St & 11 Ave               40.767272   \n",
       "4                72   W 52 St & 11 Ave               40.767272   \n",
       "\n",
       "   start station longitude  end station id    end station name  \\\n",
       "0               -73.993929            3236  W 42 St & Dyer Ave   \n",
       "1               -73.993929             529     W 42 St & 8 Ave   \n",
       "2               -73.993929             453     W 22 St & 8 Ave   \n",
       "3               -73.993929             465  Broadway & W 41 St   \n",
       "4               -73.993929            3425    2 Ave & E 104 St   \n",
       "\n",
       "   end station latitude  end station longitude  bikeid    usertype  \\\n",
       "0             40.758985             -73.993800   16583  Subscriber   \n",
       "1             40.757570             -73.990985   31481  Subscriber   \n",
       "2             40.744751             -73.999154   25004  Subscriber   \n",
       "3             40.755136             -73.986580   25867  Subscriber   \n",
       "4             40.789211             -73.943708   31351  Subscriber   \n",
       "\n",
       "   birth year  gender Month  \n",
       "0        1981       1  July  \n",
       "1        1988       1  July  \n",
       "2        1982       2  July  \n",
       "3        1986       1  July  \n",
       "4        1992       1  July  "
      ]
     },
     "execution_count": 101,
     "metadata": {},
     "output_type": "execute_result"
    }
   ],
   "source": [
    "dfJuly2018Clean.head()"
   ]
  },
  {
   "cell_type": "markdown",
   "id": "d7841211",
   "metadata": {},
   "source": [
    "Aug2018"
   ]
  },
  {
   "cell_type": "code",
   "execution_count": 61,
   "id": "13c95f54",
   "metadata": {},
   "outputs": [],
   "source": [
    "dfAug2018 = pd.read_csv(r'Aug2018.csv').assign(Month='Aug')\n",
    "dfAug2018.to_csv('Aug2018Clean.csv', index=False)"
   ]
  },
  {
   "cell_type": "code",
   "execution_count": 64,
   "id": "909d71d0",
   "metadata": {},
   "outputs": [],
   "source": [
    "# list(dfAug2018.columns)"
   ]
  },
  {
   "cell_type": "code",
   "execution_count": 65,
   "id": "395c8bd5",
   "metadata": {},
   "outputs": [],
   "source": [
    "Aug2018Clean = 'Aug2018Clean.csv'\n",
    "dfAug2018Clean = pd.read_csv(Aug2018Clean)"
   ]
  },
  {
   "cell_type": "code",
   "execution_count": 67,
   "id": "1ee9fa8b",
   "metadata": {},
   "outputs": [],
   "source": [
    "# list(dfAug2018Clean.columns)"
   ]
  },
  {
   "cell_type": "code",
   "execution_count": 102,
   "id": "adb33c1c",
   "metadata": {},
   "outputs": [
    {
     "data": {
      "text/html": [
       "<div>\n",
       "<style scoped>\n",
       "    .dataframe tbody tr th:only-of-type {\n",
       "        vertical-align: middle;\n",
       "    }\n",
       "\n",
       "    .dataframe tbody tr th {\n",
       "        vertical-align: top;\n",
       "    }\n",
       "\n",
       "    .dataframe thead th {\n",
       "        text-align: right;\n",
       "    }\n",
       "</style>\n",
       "<table border=\"1\" class=\"dataframe\">\n",
       "  <thead>\n",
       "    <tr style=\"text-align: right;\">\n",
       "      <th></th>\n",
       "      <th>tripduration</th>\n",
       "      <th>starttime</th>\n",
       "      <th>stoptime</th>\n",
       "      <th>start station id</th>\n",
       "      <th>start station name</th>\n",
       "      <th>start station latitude</th>\n",
       "      <th>start station longitude</th>\n",
       "      <th>end station id</th>\n",
       "      <th>end station name</th>\n",
       "      <th>end station latitude</th>\n",
       "      <th>end station longitude</th>\n",
       "      <th>bikeid</th>\n",
       "      <th>usertype</th>\n",
       "      <th>birth year</th>\n",
       "      <th>gender</th>\n",
       "      <th>Month</th>\n",
       "    </tr>\n",
       "  </thead>\n",
       "  <tbody>\n",
       "    <tr>\n",
       "      <th>0</th>\n",
       "      <td>681</td>\n",
       "      <td>2018-08-01 00:00:07.3210</td>\n",
       "      <td>2018-08-01 00:11:28.9920</td>\n",
       "      <td>3162.0</td>\n",
       "      <td>W 78 St &amp; Broadway</td>\n",
       "      <td>40.783400</td>\n",
       "      <td>-73.980931</td>\n",
       "      <td>3383.0</td>\n",
       "      <td>Cathedral Pkwy &amp; Broadway</td>\n",
       "      <td>40.804213</td>\n",
       "      <td>-73.966991</td>\n",
       "      <td>27770</td>\n",
       "      <td>Subscriber</td>\n",
       "      <td>1986</td>\n",
       "      <td>1</td>\n",
       "      <td>Aug</td>\n",
       "    </tr>\n",
       "    <tr>\n",
       "      <th>1</th>\n",
       "      <td>625</td>\n",
       "      <td>2018-08-01 00:00:19.7480</td>\n",
       "      <td>2018-08-01 00:10:45.0290</td>\n",
       "      <td>3260.0</td>\n",
       "      <td>Mercer St &amp; Bleecker St</td>\n",
       "      <td>40.727064</td>\n",
       "      <td>-73.996621</td>\n",
       "      <td>2012.0</td>\n",
       "      <td>E 27 St &amp; 1 Ave</td>\n",
       "      <td>40.739445</td>\n",
       "      <td>-73.976806</td>\n",
       "      <td>25938</td>\n",
       "      <td>Subscriber</td>\n",
       "      <td>1969</td>\n",
       "      <td>1</td>\n",
       "      <td>Aug</td>\n",
       "    </tr>\n",
       "    <tr>\n",
       "      <th>2</th>\n",
       "      <td>1319</td>\n",
       "      <td>2018-08-01 00:00:21.1750</td>\n",
       "      <td>2018-08-01 00:22:20.6370</td>\n",
       "      <td>403.0</td>\n",
       "      <td>E 2 St &amp; 2 Ave</td>\n",
       "      <td>40.725029</td>\n",
       "      <td>-73.990697</td>\n",
       "      <td>285.0</td>\n",
       "      <td>Broadway &amp; E 14 St</td>\n",
       "      <td>40.734546</td>\n",
       "      <td>-73.990741</td>\n",
       "      <td>28679</td>\n",
       "      <td>Subscriber</td>\n",
       "      <td>1970</td>\n",
       "      <td>1</td>\n",
       "      <td>Aug</td>\n",
       "    </tr>\n",
       "    <tr>\n",
       "      <th>3</th>\n",
       "      <td>220</td>\n",
       "      <td>2018-08-01 00:00:26.4700</td>\n",
       "      <td>2018-08-01 00:04:06.8190</td>\n",
       "      <td>3637.0</td>\n",
       "      <td>Fulton St &amp; Waverly Ave</td>\n",
       "      <td>40.683239</td>\n",
       "      <td>-73.965996</td>\n",
       "      <td>399.0</td>\n",
       "      <td>Lafayette Ave &amp; St James Pl</td>\n",
       "      <td>40.688515</td>\n",
       "      <td>-73.964763</td>\n",
       "      <td>28075</td>\n",
       "      <td>Subscriber</td>\n",
       "      <td>1982</td>\n",
       "      <td>1</td>\n",
       "      <td>Aug</td>\n",
       "    </tr>\n",
       "    <tr>\n",
       "      <th>4</th>\n",
       "      <td>398</td>\n",
       "      <td>2018-08-01 00:00:30.2910</td>\n",
       "      <td>2018-08-01 00:07:09.2810</td>\n",
       "      <td>3662.0</td>\n",
       "      <td>31 Ave &amp; Steinway St</td>\n",
       "      <td>40.761294</td>\n",
       "      <td>-73.916917</td>\n",
       "      <td>3517.0</td>\n",
       "      <td>31 St &amp; Hoyt Ave N</td>\n",
       "      <td>40.771153</td>\n",
       "      <td>-73.917007</td>\n",
       "      <td>25002</td>\n",
       "      <td>Subscriber</td>\n",
       "      <td>1987</td>\n",
       "      <td>1</td>\n",
       "      <td>Aug</td>\n",
       "    </tr>\n",
       "  </tbody>\n",
       "</table>\n",
       "</div>"
      ],
      "text/plain": [
       "   tripduration                 starttime                  stoptime  \\\n",
       "0           681  2018-08-01 00:00:07.3210  2018-08-01 00:11:28.9920   \n",
       "1           625  2018-08-01 00:00:19.7480  2018-08-01 00:10:45.0290   \n",
       "2          1319  2018-08-01 00:00:21.1750  2018-08-01 00:22:20.6370   \n",
       "3           220  2018-08-01 00:00:26.4700  2018-08-01 00:04:06.8190   \n",
       "4           398  2018-08-01 00:00:30.2910  2018-08-01 00:07:09.2810   \n",
       "\n",
       "   start station id       start station name  start station latitude  \\\n",
       "0            3162.0       W 78 St & Broadway               40.783400   \n",
       "1            3260.0  Mercer St & Bleecker St               40.727064   \n",
       "2             403.0           E 2 St & 2 Ave               40.725029   \n",
       "3            3637.0  Fulton St & Waverly Ave               40.683239   \n",
       "4            3662.0     31 Ave & Steinway St               40.761294   \n",
       "\n",
       "   start station longitude  end station id             end station name  \\\n",
       "0               -73.980931          3383.0    Cathedral Pkwy & Broadway   \n",
       "1               -73.996621          2012.0              E 27 St & 1 Ave   \n",
       "2               -73.990697           285.0           Broadway & E 14 St   \n",
       "3               -73.965996           399.0  Lafayette Ave & St James Pl   \n",
       "4               -73.916917          3517.0           31 St & Hoyt Ave N   \n",
       "\n",
       "   end station latitude  end station longitude  bikeid    usertype  \\\n",
       "0             40.804213             -73.966991   27770  Subscriber   \n",
       "1             40.739445             -73.976806   25938  Subscriber   \n",
       "2             40.734546             -73.990741   28679  Subscriber   \n",
       "3             40.688515             -73.964763   28075  Subscriber   \n",
       "4             40.771153             -73.917007   25002  Subscriber   \n",
       "\n",
       "   birth year  gender Month  \n",
       "0        1986       1   Aug  \n",
       "1        1969       1   Aug  \n",
       "2        1970       1   Aug  \n",
       "3        1982       1   Aug  \n",
       "4        1987       1   Aug  "
      ]
     },
     "execution_count": 102,
     "metadata": {},
     "output_type": "execute_result"
    }
   ],
   "source": [
    "dfAug2018Clean.head()"
   ]
  },
  {
   "cell_type": "markdown",
   "id": "01a7eed6",
   "metadata": {},
   "source": [
    "Sept 2018"
   ]
  },
  {
   "cell_type": "code",
   "execution_count": 68,
   "id": "5a66be9c",
   "metadata": {},
   "outputs": [],
   "source": [
    "dfSept2018 = pd.read_csv(r'Sept2018.csv').assign(Month='Sept')\n",
    "dfSept2018.to_csv('Sept2018Clean.csv', index=False)"
   ]
  },
  {
   "cell_type": "code",
   "execution_count": 69,
   "id": "8f7da6f5",
   "metadata": {},
   "outputs": [],
   "source": [
    "Sept2018Clean = 'Sept2018Clean.csv'\n",
    "dfSept2018Clean = pd.read_csv(Sept2018Clean)"
   ]
  },
  {
   "cell_type": "code",
   "execution_count": 103,
   "id": "2eab6e00",
   "metadata": {},
   "outputs": [
    {
     "data": {
      "text/html": [
       "<div>\n",
       "<style scoped>\n",
       "    .dataframe tbody tr th:only-of-type {\n",
       "        vertical-align: middle;\n",
       "    }\n",
       "\n",
       "    .dataframe tbody tr th {\n",
       "        vertical-align: top;\n",
       "    }\n",
       "\n",
       "    .dataframe thead th {\n",
       "        text-align: right;\n",
       "    }\n",
       "</style>\n",
       "<table border=\"1\" class=\"dataframe\">\n",
       "  <thead>\n",
       "    <tr style=\"text-align: right;\">\n",
       "      <th></th>\n",
       "      <th>tripduration</th>\n",
       "      <th>starttime</th>\n",
       "      <th>stoptime</th>\n",
       "      <th>start station id</th>\n",
       "      <th>start station name</th>\n",
       "      <th>start station latitude</th>\n",
       "      <th>start station longitude</th>\n",
       "      <th>end station id</th>\n",
       "      <th>end station name</th>\n",
       "      <th>end station latitude</th>\n",
       "      <th>end station longitude</th>\n",
       "      <th>bikeid</th>\n",
       "      <th>usertype</th>\n",
       "      <th>birth year</th>\n",
       "      <th>gender</th>\n",
       "      <th>Month</th>\n",
       "    </tr>\n",
       "  </thead>\n",
       "  <tbody>\n",
       "    <tr>\n",
       "      <th>0</th>\n",
       "      <td>1635</td>\n",
       "      <td>2018-09-01 00:00:05.2690</td>\n",
       "      <td>2018-09-01 00:27:20.6340</td>\n",
       "      <td>252.0</td>\n",
       "      <td>MacDougal St &amp; Washington Sq</td>\n",
       "      <td>40.732264</td>\n",
       "      <td>-73.998522</td>\n",
       "      <td>366.0</td>\n",
       "      <td>Clinton Ave &amp; Myrtle Ave</td>\n",
       "      <td>40.693261</td>\n",
       "      <td>-73.968896</td>\n",
       "      <td>25577</td>\n",
       "      <td>Subscriber</td>\n",
       "      <td>1980</td>\n",
       "      <td>1</td>\n",
       "      <td>Sept</td>\n",
       "    </tr>\n",
       "    <tr>\n",
       "      <th>1</th>\n",
       "      <td>132</td>\n",
       "      <td>2018-09-01 00:00:11.2810</td>\n",
       "      <td>2018-09-01 00:02:23.4810</td>\n",
       "      <td>314.0</td>\n",
       "      <td>Cadman Plaza West &amp; Montague St</td>\n",
       "      <td>40.693830</td>\n",
       "      <td>-73.990539</td>\n",
       "      <td>3242.0</td>\n",
       "      <td>Schermerhorn St &amp; Court St</td>\n",
       "      <td>40.691029</td>\n",
       "      <td>-73.991834</td>\n",
       "      <td>34377</td>\n",
       "      <td>Subscriber</td>\n",
       "      <td>1969</td>\n",
       "      <td>0</td>\n",
       "      <td>Sept</td>\n",
       "    </tr>\n",
       "    <tr>\n",
       "      <th>2</th>\n",
       "      <td>3337</td>\n",
       "      <td>2018-09-01 00:00:20.6490</td>\n",
       "      <td>2018-09-01 00:55:58.5470</td>\n",
       "      <td>3142.0</td>\n",
       "      <td>1 Ave &amp; E 62 St</td>\n",
       "      <td>40.761227</td>\n",
       "      <td>-73.960940</td>\n",
       "      <td>3384.0</td>\n",
       "      <td>Smith St &amp; 3 St</td>\n",
       "      <td>40.678724</td>\n",
       "      <td>-73.995991</td>\n",
       "      <td>30496</td>\n",
       "      <td>Subscriber</td>\n",
       "      <td>1975</td>\n",
       "      <td>1</td>\n",
       "      <td>Sept</td>\n",
       "    </tr>\n",
       "    <tr>\n",
       "      <th>3</th>\n",
       "      <td>436</td>\n",
       "      <td>2018-09-01 00:00:21.7460</td>\n",
       "      <td>2018-09-01 00:07:38.5830</td>\n",
       "      <td>308.0</td>\n",
       "      <td>St James Pl &amp; Oliver St</td>\n",
       "      <td>40.713079</td>\n",
       "      <td>-73.998512</td>\n",
       "      <td>3690.0</td>\n",
       "      <td>Park Pl &amp; Church St</td>\n",
       "      <td>40.713342</td>\n",
       "      <td>-74.009355</td>\n",
       "      <td>28866</td>\n",
       "      <td>Subscriber</td>\n",
       "      <td>1984</td>\n",
       "      <td>2</td>\n",
       "      <td>Sept</td>\n",
       "    </tr>\n",
       "    <tr>\n",
       "      <th>4</th>\n",
       "      <td>8457</td>\n",
       "      <td>2018-09-01 00:00:27.3150</td>\n",
       "      <td>2018-09-01 02:21:25.3080</td>\n",
       "      <td>345.0</td>\n",
       "      <td>W 13 St &amp; 6 Ave</td>\n",
       "      <td>40.736494</td>\n",
       "      <td>-73.997044</td>\n",
       "      <td>380.0</td>\n",
       "      <td>W 4 St &amp; 7 Ave S</td>\n",
       "      <td>40.734011</td>\n",
       "      <td>-74.002939</td>\n",
       "      <td>20943</td>\n",
       "      <td>Customer</td>\n",
       "      <td>1994</td>\n",
       "      <td>1</td>\n",
       "      <td>Sept</td>\n",
       "    </tr>\n",
       "  </tbody>\n",
       "</table>\n",
       "</div>"
      ],
      "text/plain": [
       "   tripduration                 starttime                  stoptime  \\\n",
       "0          1635  2018-09-01 00:00:05.2690  2018-09-01 00:27:20.6340   \n",
       "1           132  2018-09-01 00:00:11.2810  2018-09-01 00:02:23.4810   \n",
       "2          3337  2018-09-01 00:00:20.6490  2018-09-01 00:55:58.5470   \n",
       "3           436  2018-09-01 00:00:21.7460  2018-09-01 00:07:38.5830   \n",
       "4          8457  2018-09-01 00:00:27.3150  2018-09-01 02:21:25.3080   \n",
       "\n",
       "   start station id               start station name  start station latitude  \\\n",
       "0             252.0     MacDougal St & Washington Sq               40.732264   \n",
       "1             314.0  Cadman Plaza West & Montague St               40.693830   \n",
       "2            3142.0                  1 Ave & E 62 St               40.761227   \n",
       "3             308.0          St James Pl & Oliver St               40.713079   \n",
       "4             345.0                  W 13 St & 6 Ave               40.736494   \n",
       "\n",
       "   start station longitude  end station id            end station name  \\\n",
       "0               -73.998522           366.0    Clinton Ave & Myrtle Ave   \n",
       "1               -73.990539          3242.0  Schermerhorn St & Court St   \n",
       "2               -73.960940          3384.0             Smith St & 3 St   \n",
       "3               -73.998512          3690.0         Park Pl & Church St   \n",
       "4               -73.997044           380.0            W 4 St & 7 Ave S   \n",
       "\n",
       "   end station latitude  end station longitude  bikeid    usertype  \\\n",
       "0             40.693261             -73.968896   25577  Subscriber   \n",
       "1             40.691029             -73.991834   34377  Subscriber   \n",
       "2             40.678724             -73.995991   30496  Subscriber   \n",
       "3             40.713342             -74.009355   28866  Subscriber   \n",
       "4             40.734011             -74.002939   20943    Customer   \n",
       "\n",
       "   birth year  gender Month  \n",
       "0        1980       1  Sept  \n",
       "1        1969       0  Sept  \n",
       "2        1975       1  Sept  \n",
       "3        1984       2  Sept  \n",
       "4        1994       1  Sept  "
      ]
     },
     "execution_count": 103,
     "metadata": {},
     "output_type": "execute_result"
    }
   ],
   "source": [
    "# list(dfSept2018Clean.columns)\n",
    "dfSept2018Clean.head()"
   ]
  },
  {
   "cell_type": "markdown",
   "id": "69eb7622",
   "metadata": {},
   "source": [
    "April 2019"
   ]
  },
  {
   "cell_type": "code",
   "execution_count": 146,
   "id": "38b3b81c",
   "metadata": {},
   "outputs": [],
   "source": [
    "# dfApril2019 = pd.read_csv(r'April2019.csv').assign(Month='April')\n",
    "# dfApril2019.to_csv('April2019Clean.csv', index=False)"
   ]
  },
  {
   "cell_type": "code",
   "execution_count": 147,
   "id": "60d46d17",
   "metadata": {},
   "outputs": [],
   "source": [
    "# April2019Clean = 'April2019Clean.csv'\n",
    "# dfApril2019Clean = pd.read_csv(April2019Clean)"
   ]
  },
  {
   "cell_type": "code",
   "execution_count": 148,
   "id": "05d924ab",
   "metadata": {},
   "outputs": [],
   "source": [
    "# dfApril2019Clean.head()"
   ]
  },
  {
   "cell_type": "code",
   "execution_count": 149,
   "id": "cac98447",
   "metadata": {},
   "outputs": [],
   "source": [
    "# dfApril2019Clean.drop(['Unnamed:0'], axis=1)"
   ]
  },
  {
   "cell_type": "markdown",
   "id": "ea2446cd",
   "metadata": {},
   "source": [
    "May 2019"
   ]
  },
  {
   "cell_type": "code",
   "execution_count": 76,
   "id": "ee80c2ec",
   "metadata": {},
   "outputs": [],
   "source": [
    "dfMay2019 = pd.read_csv(r'May2019.csv').assign(Month='May')\n",
    "dfMay2019.to_csv('May2019Clean.csv', index=False)"
   ]
  },
  {
   "cell_type": "code",
   "execution_count": 77,
   "id": "915981b3",
   "metadata": {},
   "outputs": [],
   "source": [
    "May2019Clean = 'May2019Clean.csv'\n",
    "dfMay2019Clean = pd.read_csv(May2019Clean)"
   ]
  },
  {
   "cell_type": "code",
   "execution_count": 110,
   "id": "aa1fac73",
   "metadata": {},
   "outputs": [],
   "source": [
    "# list(dfMay2019Clean.columns)"
   ]
  },
  {
   "cell_type": "markdown",
   "id": "29234242",
   "metadata": {},
   "source": [
    "June 2019"
   ]
  },
  {
   "cell_type": "code",
   "execution_count": 79,
   "id": "96e150a2",
   "metadata": {},
   "outputs": [],
   "source": [
    "dfJune2019 = pd.read_csv(r'June2019.csv').assign(Month='June')\n",
    "dfJune2019.to_csv('June2019Clean.csv', index=False)"
   ]
  },
  {
   "cell_type": "code",
   "execution_count": 80,
   "id": "e393db03",
   "metadata": {},
   "outputs": [],
   "source": [
    "June2019Clean = 'June2019Clean.csv'\n",
    "dfJune2019Clean = pd.read_csv(June2019Clean)"
   ]
  },
  {
   "cell_type": "code",
   "execution_count": 82,
   "id": "fbf1e4eb",
   "metadata": {},
   "outputs": [],
   "source": [
    "# list(dfJune2019Clean.columns)"
   ]
  },
  {
   "cell_type": "markdown",
   "id": "f11163fb",
   "metadata": {},
   "source": [
    "July 2019"
   ]
  },
  {
   "cell_type": "code",
   "execution_count": 85,
   "id": "a2ed2097",
   "metadata": {},
   "outputs": [],
   "source": [
    "dfJuly2019 = pd.read_csv(r'July2019.csv').assign(Month='July')\n",
    "dfJuly2019.to_csv('July2019Clean.csv', index=False)"
   ]
  },
  {
   "cell_type": "code",
   "execution_count": 86,
   "id": "5f5e7d9e",
   "metadata": {},
   "outputs": [],
   "source": [
    "July2019Clean = 'July2019Clean.csv'\n",
    "dfJuly2019Clean = pd.read_csv(July2019Clean)"
   ]
  },
  {
   "cell_type": "code",
   "execution_count": 88,
   "id": "d0f1ccef",
   "metadata": {},
   "outputs": [],
   "source": [
    "# list(dfJuly2019Clean.columns)"
   ]
  },
  {
   "cell_type": "markdown",
   "id": "f931e61c",
   "metadata": {},
   "source": [
    "Aug 2019"
   ]
  },
  {
   "cell_type": "code",
   "execution_count": 89,
   "id": "f5769f20",
   "metadata": {},
   "outputs": [],
   "source": [
    "dfAug2019 = pd.read_csv(r'Aug2019.csv').assign(Month='Aug')\n",
    "dfAug2019.to_csv('Aug2019Clean.csv', index=False)"
   ]
  },
  {
   "cell_type": "code",
   "execution_count": 90,
   "id": "15813e40",
   "metadata": {},
   "outputs": [],
   "source": [
    "Aug2019Clean = 'Aug2019Clean.csv'\n",
    "dfAug2019Clean = pd.read_csv(Aug2019Clean)"
   ]
  },
  {
   "cell_type": "code",
   "execution_count": 150,
   "id": "ded57f5a",
   "metadata": {},
   "outputs": [],
   "source": [
    "# list(dfAug2019Clean.columns)"
   ]
  },
  {
   "cell_type": "markdown",
   "id": "4cba517e",
   "metadata": {},
   "source": [
    "Sept 2019"
   ]
  },
  {
   "cell_type": "code",
   "execution_count": 92,
   "id": "f0270ff9",
   "metadata": {},
   "outputs": [],
   "source": [
    "dfSept2019 = pd.read_csv(r'Sept2019.csv').assign(Month='Sept')\n",
    "dfSept2019.to_csv('Sept2019Clean.csv', index=False)"
   ]
  },
  {
   "cell_type": "code",
   "execution_count": 94,
   "id": "087f436b",
   "metadata": {},
   "outputs": [],
   "source": [
    "Sept2019Clean = 'Sept2019Clean.csv'\n",
    "dfSept2019Clean = pd.read_csv(Sept2019Clean)"
   ]
  },
  {
   "cell_type": "code",
   "execution_count": 151,
   "id": "2697debd",
   "metadata": {},
   "outputs": [],
   "source": [
    "# list(dfSept2019Clean.columns)"
   ]
  },
  {
   "cell_type": "code",
   "execution_count": 116,
   "id": "936e5dc7",
   "metadata": {},
   "outputs": [],
   "source": [
    "# df2018 = pd.merge(dfApril2018Clean, dfMay2018Clean, on=\"end station id\")\n",
    "# df2018.head()"
   ]
  },
  {
   "cell_type": "code",
   "execution_count": 117,
   "id": "65b5480d",
   "metadata": {},
   "outputs": [],
   "source": [
    "indexAge = dfApril2018Clean[dfApril2018Clean['birth year'] < 1920 ].index\n",
    "dfApril2018Clean.drop(indexAge , inplace=True)"
   ]
  },
  {
   "cell_type": "code",
   "execution_count": 118,
   "id": "e5ca87fe",
   "metadata": {},
   "outputs": [],
   "source": [
    "# indexAge = dfApril2018Clean[dfApril2018Clean['birth year'] < 1920 ].index\n",
    "# dfApril2018Clean.drop(indexAge , inplace=True)"
   ]
  },
  {
   "cell_type": "code",
   "execution_count": 119,
   "id": "3c976db8",
   "metadata": {},
   "outputs": [],
   "source": [
    "indexAgeJune2018 = dfJune2018Clean[dfJune2018Clean['birth year'] < 1920 ].index\n",
    "dfJune2018Clean.drop(indexAgeJune2018, inplace=True)"
   ]
  },
  {
   "cell_type": "code",
   "execution_count": 120,
   "id": "88fdc1ba",
   "metadata": {},
   "outputs": [],
   "source": [
    "indexAgeJuly2018 = dfJuly2018Clean[dfJuly2018Clean['birth year'] < 1920 ].index\n",
    "dfJuly2018Clean.drop(indexAgeJuly2018, inplace=True)"
   ]
  },
  {
   "cell_type": "code",
   "execution_count": 121,
   "id": "590dcb6b",
   "metadata": {},
   "outputs": [],
   "source": [
    "indexAgeAug2018 = dfAug2018Clean[dfAug2018Clean['birth year'] < 1920 ].index\n",
    "dfAug2018Clean.drop(indexAgeAug2018, inplace=True)"
   ]
  },
  {
   "cell_type": "code",
   "execution_count": 122,
   "id": "ec9ae28b",
   "metadata": {},
   "outputs": [],
   "source": [
    "indexAgeSept2018 = dfSept2018Clean[dfSept2018Clean['birth year'] < 1920 ].index\n",
    "dfSept2018Clean.drop(indexAgeSept2018, inplace=True)"
   ]
  },
  {
   "cell_type": "code",
   "execution_count": 136,
   "id": "79bfd0a1",
   "metadata": {},
   "outputs": [],
   "source": [
    "indexAge = dfApril2018Clean[dfApril2018Clean['birth year'] < 1920 ].index\n",
    "dfApril2018Clean.drop(indexAge , inplace=True)"
   ]
  },
  {
   "cell_type": "code",
   "execution_count": 137,
   "id": "cbbe1282",
   "metadata": {},
   "outputs": [],
   "source": [
    "indexAgeMay = dfMay2018Clean[dfMay2018Clean['birth year'] < 1920 ].index\n",
    "dfMay2018Clean.drop(indexAgeMay, inplace=True)"
   ]
  },
  {
   "cell_type": "code",
   "execution_count": 138,
   "id": "7cfe341e",
   "metadata": {},
   "outputs": [],
   "source": [
    "indexAgeJune2019 = dfJune2019Clean[dfJune2019Clean['birth year'] < 1920 ].index\n",
    "dfJune2019Clean.drop(indexAgeJune2019, inplace=True)"
   ]
  },
  {
   "cell_type": "code",
   "execution_count": 139,
   "id": "10d93903",
   "metadata": {},
   "outputs": [],
   "source": [
    "indexAgeJuly2019 = dfJuly2019Clean[dfJuly2019Clean['birth year'] < 1920 ].index\n",
    "dfJuly2019Clean.drop(indexAgeJuly2019, inplace=True)"
   ]
  },
  {
   "cell_type": "code",
   "execution_count": 140,
   "id": "2a93678e",
   "metadata": {},
   "outputs": [],
   "source": [
    "indexAgeAug2019 = dfAug2019Clean[dfAug2019Clean['birth year'] < 1920 ].index\n",
    "dfAug2019Clean.drop(indexAgeAug2019, inplace=True)"
   ]
  },
  {
   "cell_type": "code",
   "execution_count": 141,
   "id": "1f9fa090",
   "metadata": {},
   "outputs": [],
   "source": [
    "indexAgeSept2019 = dfSept2019Clean[dfSept2019Clean['birth year'] < 1920 ].index\n",
    "dfSept2019Clean.drop(indexAgeSept2019, inplace=True)"
   ]
  },
  {
   "cell_type": "code",
   "execution_count": 124,
   "id": "255fec50",
   "metadata": {},
   "outputs": [],
   "source": [
    "indexDurationApril2018 = dfApril2018Clean[dfApril2018Clean['tripduration'] > 35000 ].index\n",
    "dfApril2018Clean.drop(indexDurationApril2018, inplace=True)"
   ]
  },
  {
   "cell_type": "code",
   "execution_count": 125,
   "id": "468a380f",
   "metadata": {},
   "outputs": [],
   "source": [
    "indexDurationMay2018 = dfMay2018Clean[dfMay2018Clean['tripduration'] > 35000 ].index\n",
    "dfMay2018Clean.drop(indexDurationMay2018, inplace=True)"
   ]
  },
  {
   "cell_type": "code",
   "execution_count": 126,
   "id": "bc612a99",
   "metadata": {},
   "outputs": [],
   "source": [
    "indexDurationJune2018 = dfJune2018Clean[dfJune2018Clean['tripduration'] > 35000 ].index\n",
    "dfJune2018Clean.drop(indexDurationJune2018, inplace=True)"
   ]
  },
  {
   "cell_type": "code",
   "execution_count": 127,
   "id": "9af4334a",
   "metadata": {},
   "outputs": [],
   "source": [
    "indexDurationJuly2018 = dfJuly2018Clean[dfJuly2018Clean['tripduration'] > 35000 ].index\n",
    "dfJuly2018Clean.drop(indexDurationJuly2018, inplace=True)"
   ]
  },
  {
   "cell_type": "code",
   "execution_count": 128,
   "id": "e678469f",
   "metadata": {},
   "outputs": [],
   "source": [
    "indexDurationAug2018 = dfAug2018Clean[dfAug2018Clean['tripduration'] > 35000 ].index\n",
    "dfAug2018Clean.drop(indexDurationAug2018, inplace=True)"
   ]
  },
  {
   "cell_type": "code",
   "execution_count": 129,
   "id": "4b48906e",
   "metadata": {},
   "outputs": [],
   "source": [
    "indexDurationSept2018 = dfSept2018Clean[dfSept2018Clean['tripduration'] > 35000 ].index\n",
    "dfSept2018Clean.drop(indexDurationSept2018, inplace=True)"
   ]
  },
  {
   "cell_type": "code",
   "execution_count": 130,
   "id": "080b26c6",
   "metadata": {},
   "outputs": [],
   "source": [
    "indexDurationApril2019 = dfApril2019Clean[dfApril2019Clean['tripduration'] > 35000 ].index\n",
    "dfApril2019Clean.drop(indexDurationApril2019, inplace=True)"
   ]
  },
  {
   "cell_type": "code",
   "execution_count": 131,
   "id": "d9a61abd",
   "metadata": {},
   "outputs": [],
   "source": [
    "indexDurationMay2019 = dfMay2019Clean[dfMay2019Clean['tripduration'] > 35000 ].index\n",
    "dfMay2019Clean.drop(indexDurationMay2019, inplace=True)"
   ]
  },
  {
   "cell_type": "code",
   "execution_count": 132,
   "id": "17b9d5a4",
   "metadata": {},
   "outputs": [],
   "source": [
    "indexDurationJune2019 = dfJune2019Clean[dfJune2019Clean['tripduration'] > 35000 ].index\n",
    "dfJune2019Clean.drop(indexDurationJune2019, inplace=True)"
   ]
  },
  {
   "cell_type": "code",
   "execution_count": 133,
   "id": "a756d895",
   "metadata": {},
   "outputs": [],
   "source": [
    "indexDurationJuly2019 = dfJuly2019Clean[dfJuly2019Clean['tripduration'] > 35000 ].index\n",
    "dfJuly2019Clean.drop(indexDurationJuly2019, inplace=True)"
   ]
  },
  {
   "cell_type": "code",
   "execution_count": 134,
   "id": "73c49b47",
   "metadata": {},
   "outputs": [],
   "source": [
    "indexDurationAug2019 = dfAug2019Clean[dfAug2019Clean['tripduration'] > 35000 ].index\n",
    "dfAug2019Clean.drop(indexDurationAug2019, inplace=True)"
   ]
  },
  {
   "cell_type": "code",
   "execution_count": 135,
   "id": "cbb8a584",
   "metadata": {},
   "outputs": [],
   "source": [
    "indexDurationSept2019 = dfSept2019Clean[dfSept2019Clean['tripduration'] > 35000 ].index\n",
    "dfSept2019Clean.drop(indexDurationSept2019, inplace=True)"
   ]
  },
  {
   "cell_type": "code",
   "execution_count": 154,
   "id": "7ef1f069",
   "metadata": {},
   "outputs": [],
   "source": [
    "df2018 = pd.merge(dfApril2018Clean, dfMay2018Clean, on=\"end station id\")\n",
    "df2018.head()"
   ]
  }
 ],
 "metadata": {
  "kernelspec": {
   "display_name": "Python 3",
   "language": "python",
   "name": "python3"
  },
  "language_info": {
   "codemirror_mode": {
    "name": "ipython",
    "version": 3
   },
   "file_extension": ".py",
   "mimetype": "text/x-python",
   "name": "python",
   "nbconvert_exporter": "python",
   "pygments_lexer": "ipython3",
   "version": "3.6.10"
  }
 },
 "nbformat": 4,
 "nbformat_minor": 5
}
